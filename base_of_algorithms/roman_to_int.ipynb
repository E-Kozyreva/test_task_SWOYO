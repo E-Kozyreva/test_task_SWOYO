{
 "cells": [
  {
   "cell_type": "markdown",
   "metadata": {},
   "source": [
    "### Libs"
   ]
  },
  {
   "cell_type": "code",
   "execution_count": 3,
   "metadata": {},
   "outputs": [],
   "source": [
    "import time\n",
    "from re import match"
   ]
  },
  {
   "cell_type": "markdown",
   "metadata": {},
   "source": [
    "### Algorithm"
   ]
  },
  {
   "cell_type": "code",
   "execution_count": 17,
   "metadata": {},
   "outputs": [],
   "source": [
    "def is_roman_number(num: str) -> bool:\n",
    "    reg = r'^M{0,3}(CM|CD|D?C{0,3})?(XC|XL|L?X{0,3})?(IX|IV|V?I{0,3})?$'\n",
    "    return True if match(reg, num) else False"
   ]
  },
  {
   "cell_type": "code",
   "execution_count": 18,
   "metadata": {},
   "outputs": [],
   "source": [
    "def roman_numerals_to_int(s: str) -> int:\n",
    "    if not is_roman_number(s):\n",
    "        return None\n",
    "    translations = {\"I\": 1,\n",
    "                    \"V\": 5,\n",
    "                    \"X\": 10,\n",
    "                    \"L\": 50,\n",
    "                    \"C\": 100,\n",
    "                    \"D\": 500,\n",
    "                    \"M\": 1000\n",
    "                    }\n",
    "    number = 0\n",
    "    s = s.replace(\"IV\", \"IIII\").replace(\"IX\", \"VIIII\")\n",
    "    s = s.replace(\"XL\", \"XXXX\").replace(\"XC\", \"LXXXX\")\n",
    "    s = s.replace(\"CD\", \"CCCC\").replace(\"CM\", \"DCCCC\")\n",
    "    for char in s:\n",
    "        number += translations[char]\n",
    "    return number"
   ]
  },
  {
   "cell_type": "markdown",
   "metadata": {},
   "source": [
    "### Test"
   ]
  },
  {
   "cell_type": "code",
   "execution_count": 19,
   "metadata": {},
   "outputs": [],
   "source": [
    "valid = 'MMDCCLXXIII'\n",
    "invalid = 'CCCMMVIIVV'\n",
    "t0 = time.time()\n",
    "res_valid = roman_numerals_to_int(valid)\n",
    "t1 = time.time()\n",
    "res_invalid = roman_numerals_to_int(invalid)\n",
    "t2 = time.time()"
   ]
  },
  {
   "cell_type": "markdown",
   "metadata": {},
   "source": [
    "### Output"
   ]
  },
  {
   "cell_type": "code",
   "execution_count": 20,
   "metadata": {},
   "outputs": [
    {
     "name": "stdout",
     "output_type": "stream",
     "text": [
      "Time required valid: 0.0\n",
      "Roman number valid: MMDCCLXXIII\n",
      "Arabic number valid: 2773\n",
      "\n",
      "Time required invalid: 0.0\n",
      "Roman number invalid: CCCMMVIIVV\n",
      "Arabic number invalid: None\n"
     ]
    }
   ],
   "source": [
    "print(\"Time required valid:\", t1 - t0)\n",
    "print(\"Roman number valid:\", valid)\n",
    "print(\"Arabic number valid:\", res_valid)\n",
    "print()\n",
    "print(\"Time required invalid:\", t2 - t1)\n",
    "print(\"Roman number invalid:\", invalid)\n",
    "print(\"Arabic number invalid:\", res_invalid)"
   ]
  }
 ],
 "metadata": {
  "kernelspec": {
   "display_name": "Python 3",
   "language": "python",
   "name": "python3"
  },
  "language_info": {
   "codemirror_mode": {
    "name": "ipython",
    "version": 3
   },
   "file_extension": ".py",
   "mimetype": "text/x-python",
   "name": "python",
   "nbconvert_exporter": "python",
   "pygments_lexer": "ipython3",
   "version": "3.8.0"
  }
 },
 "nbformat": 4,
 "nbformat_minor": 2
}
