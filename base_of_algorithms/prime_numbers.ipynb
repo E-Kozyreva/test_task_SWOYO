{
 "cells": [
  {
   "cell_type": "markdown",
   "metadata": {},
   "source": [
    "### Libs"
   ]
  },
  {
   "cell_type": "code",
   "execution_count": 6,
   "metadata": {},
   "outputs": [],
   "source": [
    "import time\n",
    "from math import ceil"
   ]
  },
  {
   "cell_type": "markdown",
   "metadata": {},
   "source": [
    "### Algorithm"
   ]
  },
  {
   "cell_type": "code",
   "execution_count": 7,
   "metadata": {},
   "outputs": [],
   "source": [
    "def SieveOfEratosthenes(n: int) -> list:\n",
    "    prime = [True for i in range(n + 1)] \n",
    "    p = 2\n",
    "    \n",
    "    while(p * p <= n):\n",
    "        if (prime[p] == True):\n",
    "            for i in range(p * p, n + 1, p):\n",
    "                prime[i] = False\n",
    "        p += 1\n",
    "    \n",
    "    nums = [p for p in range(2, n) if prime[p]]\n",
    "    return nums"
   ]
  },
  {
   "cell_type": "code",
   "execution_count": 8,
   "metadata": {},
   "outputs": [],
   "source": [
    "def prime_numbers(low: int, high: int) -> list:\n",
    "    if (isinstance(low, (int, float)) and \n",
    "        isinstance(high, (int, float)) and \n",
    "        low <= high):\n",
    "        return [n for n in SieveOfEratosthenes(int(high)) if n >= ceil(low)]\n",
    "    return []"
   ]
  },
  {
   "cell_type": "markdown",
   "metadata": {},
   "source": [
    "### Test"
   ]
  },
  {
   "cell_type": "code",
   "execution_count": 13,
   "metadata": {},
   "outputs": [],
   "source": [
    "low, high = 2, 1_000_000\n",
    "t0 = time.time()\n",
    "res = prime_numbers(low, high)\n",
    "t1 = time.time()"
   ]
  },
  {
   "cell_type": "markdown",
   "metadata": {},
   "source": [
    "### Output"
   ]
  },
  {
   "cell_type": "code",
   "execution_count": 14,
   "metadata": {},
   "outputs": [
    {
     "name": "stdout",
     "output_type": "stream",
     "text": [
      "Time required: 0.0\n",
      "Count of prime numbers: 0\n"
     ]
    }
   ],
   "source": [
    "print(\"Time required:\", t1 - t0)\n",
    "print(\"Count of prime numbers:\", len(res))\n",
    "for r in range(len(res)):\n",
    "    print(res[r], end=\" \")\n",
    "    if (r + 1) % 20== 0:\n",
    "        print()"
   ]
  }
 ],
 "metadata": {
  "kernelspec": {
   "display_name": "venv",
   "language": "python",
   "name": "python3"
  },
  "language_info": {
   "codemirror_mode": {
    "name": "ipython",
    "version": 3
   },
   "file_extension": ".py",
   "mimetype": "text/x-python",
   "name": "python",
   "nbconvert_exporter": "python",
   "pygments_lexer": "ipython3",
   "version": "3.8.0"
  }
 },
 "nbformat": 4,
 "nbformat_minor": 2
}
