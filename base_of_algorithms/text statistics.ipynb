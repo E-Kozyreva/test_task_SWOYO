{
 "cells": [
  {
   "cell_type": "markdown",
   "metadata": {},
   "source": [
    "### Libs"
   ]
  },
  {
   "cell_type": "code",
   "execution_count": 20,
   "metadata": {},
   "outputs": [],
   "source": [
    "import re"
   ]
  },
  {
   "cell_type": "markdown",
   "metadata": {},
   "source": [
    "### Algorithm"
   ]
  },
  {
   "cell_type": "code",
   "execution_count": 33,
   "metadata": {},
   "outputs": [],
   "source": [
    "class TextStatistics:\n",
    "    def __init__(self):\n",
    "        self.text = \"\"\n",
    "        self.words = []\n",
    "        self.letters = ()\n",
    "        self.frequency = {}\n",
    "        self.bilingual_words = []\n",
    "        \n",
    "    # текст из файла\n",
    "    def get_text(self, file_path: str) -> str:\n",
    "        with open(file_path, 'r', encoding='UTF-8') as file:\n",
    "            self.text = file.read()\n",
    "        \n",
    "    # слова из текста\n",
    "    def get_words(self) -> list:\n",
    "        self.words = re.findall(r'\\w+', self.text)\n",
    "        return self.words\n",
    "    \n",
    "    # количество слов\n",
    "    def words_amount(self) -> int:\n",
    "        return len(self.words)\n",
    "    \n",
    "    # буквы из слов\n",
    "    def get_letters(self) -> tuple:\n",
    "        self.letters =  tuple(\"\".join(self.words))\n",
    "        return self.letters\n",
    "    \n",
    "    # количество букв и их частоту\n",
    "    def letters_frequency(self) -> dict:\n",
    "        split_text = \"\".join(self.words)\n",
    "\n",
    "        for letter in self.letters:\n",
    "            f_letter = split_text.count(letter)\n",
    "            p_letter = f_letter / len(self.words)\n",
    "            self.frequency[letter] = (f_letter, p_letter)\n",
    "            \n",
    "        return self.frequency\n",
    "        \n",
    "    # количество параграфов\n",
    "    def paragraph_amount(self) -> int:\n",
    "        return self.text.count(\"\\n\\n\")\n",
    "    \n",
    "    # слова с включающие буквы из разных алфавитов\n",
    "    def bilingual_word_amount(self) -> int:\n",
    "        for w in self.words:\n",
    "            if re.search(r'[a-zA-Z]', w) and re.search(r'[а-яА-Я]', w):\n",
    "                self.bilingual_words.append(w)   \n",
    "                  \n",
    "        return self.bilingual_words\n",
    "\n"
   ]
  },
  {
   "cell_type": "markdown",
   "metadata": {},
   "source": [
    "### Test"
   ]
  },
  {
   "cell_type": "code",
   "execution_count": 34,
   "metadata": {},
   "outputs": [],
   "source": [
    "def text_statistics(file_path: str) -> tuple:\n",
    "    ts = TextStatistics()\n",
    "    ts.get_text(file_path)\n",
    "    ts.get_words()\n",
    "    ts.get_letters()\n",
    "    \n",
    "    w_amount = ts.words_amount()\n",
    "    l_frequency = ts.letters_frequency()\n",
    "    p_amount = ts.paragraph_amount()\n",
    "    b_words = ts.bilingual_word_amount()\n",
    "    \n",
    "    text_statistics = {}\n",
    "    \n",
    "    for key, value in l_frequency.items():\n",
    "        text_statistics[key] = value\n",
    "    \n",
    "    text_statistics[\"word_amount\"] = w_amount\n",
    "    text_statistics[\"paragraph_amount\"] = p_amount\n",
    "    text_statistics[\"bilingual_word_amount\"] = len(b_words)\n",
    "    \n",
    "    return text_statistics"
   ]
  },
  {
   "cell_type": "markdown",
   "metadata": {},
   "source": [
    "### Output"
   ]
  },
  {
   "cell_type": "code",
   "execution_count": 35,
   "metadata": {},
   "outputs": [
    {
     "data": {
      "text/plain": [
       "{'П': (2, 0.011695906432748537),\n",
       " 'р': (50, 0.29239766081871343),\n",
       " 'о': (125, 0.7309941520467836),\n",
       " 'с': (55, 0.3216374269005848),\n",
       " 'т': (72, 0.42105263157894735),\n",
       " 'ы': (21, 0.12280701754385964),\n",
       " 'е': (70, 0.4093567251461988),\n",
       " 'ч': (13, 0.07602339181286549),\n",
       " 'и': (89, 0.52046783625731),\n",
       " 'л': (46, 0.26900584795321636),\n",
       " 'а': (74, 0.4327485380116959),\n",
       " 'в': (44, 0.2573099415204678),\n",
       " 'з': (25, 0.14619883040935672),\n",
       " 'д': (35, 0.2046783625730994),\n",
       " 'н': (65, 0.38011695906432746),\n",
       " 'м': (31, 0.18128654970760233),\n",
       " 'п': (31, 0.18128654970760233),\n",
       " 'Н': (2, 0.011695906432748537),\n",
       " 'б': (16, 0.0935672514619883),\n",
       " 'х': (10, 0.05847953216374269),\n",
       " 'm': (7, 0.04093567251461988),\n",
       " 'b': (2, 0.011695906432748537),\n",
       " 'ь': (18, 0.10526315789473684),\n",
       " 'ф': (7, 0.04093567251461988),\n",
       " 'у': (23, 0.13450292397660818),\n",
       " 'к': (36, 0.21052631578947367),\n",
       " 'ц': (15, 0.08771929824561403),\n",
       " 'ю': (10, 0.05847953216374269),\n",
       " 'p': (3, 0.017543859649122806),\n",
       " 'r': (6, 0.03508771929824561),\n",
       " 'i': (6, 0.03508771929824561),\n",
       " 'e': (7, 0.04093567251461988),\n",
       " '_': (5, 0.029239766081871343),\n",
       " 'n': (11, 0.06432748538011696),\n",
       " 'u': (4, 0.023391812865497075),\n",
       " 's': (4, 0.023391812865497075),\n",
       " 'l': (4, 0.023391812865497075),\n",
       " 'o': (6, 0.03508771929824561),\n",
       " 'w': (2, 0.011695906432748537),\n",
       " 'h': (4, 0.023391812865497075),\n",
       " 'g': (2, 0.011695906432748537),\n",
       " 'г': (6, 0.03508771929824561),\n",
       " 'ж': (6, 0.03508771929824561),\n",
       " 'я': (21, 0.12280701754385964),\n",
       " 'й': (13, 0.07602339181286549),\n",
       " 'э': (3, 0.017543859649122806),\n",
       " 'Ф': (2, 0.011695906432748537),\n",
       " 'щ': (7, 0.04093567251461988),\n",
       " 'a': (4, 0.023391812865497075),\n",
       " 't': (8, 0.04678362573099415),\n",
       " 'Р': (1, 0.005847953216374269),\n",
       " 'ш': (4, 0.023391812865497075),\n",
       " 'N': (1, 0.005847953216374269),\n",
       " 'Д': (2, 0.011695906432748537),\n",
       " 'В': (1, 0.005847953216374269),\n",
       " 'y': (1, 0.005847953216374269),\n",
       " 'Г': (1, 0.005847953216374269),\n",
       " 'Э': (1, 0.005847953216374269),\n",
       " 'word_amount': 171,\n",
       " 'paragraph_amount': 3,\n",
       " 'bilingual_word_amount': 4}"
      ]
     },
     "execution_count": 35,
     "metadata": {},
     "output_type": "execute_result"
    }
   ],
   "source": [
    "text_statistics(\"../test_data/statistics.txt\")"
   ]
  }
 ],
 "metadata": {
  "kernelspec": {
   "display_name": "venv",
   "language": "python",
   "name": "python3"
  },
  "language_info": {
   "codemirror_mode": {
    "name": "ipython",
    "version": 3
   },
   "file_extension": ".py",
   "mimetype": "text/x-python",
   "name": "python",
   "nbconvert_exporter": "python",
   "pygments_lexer": "ipython3",
   "version": "3.8.0"
  }
 },
 "nbformat": 4,
 "nbformat_minor": 2
}
