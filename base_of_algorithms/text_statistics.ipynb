{
 "cells": [
  {
   "cell_type": "markdown",
   "metadata": {},
   "source": [
    "### Libs"
   ]
  },
  {
   "cell_type": "code",
   "execution_count": 2,
   "metadata": {},
   "outputs": [],
   "source": [
    "import re"
   ]
  },
  {
   "cell_type": "markdown",
   "metadata": {},
   "source": [
    "### Algorithm"
   ]
  },
  {
   "cell_type": "code",
   "execution_count": 4,
   "metadata": {},
   "outputs": [],
   "source": [
    "class TextStatistics:\n",
    "    def __init__(self):\n",
    "        self.text = \"\"\n",
    "        self.words = []\n",
    "        self.letters = ()\n",
    "        self.frequency = {}\n",
    "        self.bilingual_words = []\n",
    "        \n",
    "    # текст из файла\n",
    "    def get_text(self, file_path: str) -> str:\n",
    "        with open(file_path, 'r', encoding='UTF-8') as file:\n",
    "            self.text = file.read()\n",
    "        \n",
    "    # слова из текста\n",
    "    def get_words(self) -> list:\n",
    "        self.words = re.findall(r'\\w+', self.text)\n",
    "        return self.words\n",
    "    \n",
    "    # количество слов\n",
    "    def words_amount(self) -> int:\n",
    "        return len(self.words)\n",
    "    \n",
    "    # буквы из слов\n",
    "    def get_letters(self) -> tuple:\n",
    "        self.letters =  tuple(\"\".join(self.words))\n",
    "        return self.letters\n",
    "    \n",
    "    # количество букв и их частоту\n",
    "    def letters_frequency(self) -> dict:\n",
    "        split_text = \"\".join(self.words)\n",
    "\n",
    "        for letter in self.letters:\n",
    "            f_letter = split_text.count(letter)\n",
    "            p_letter = 0\n",
    "            for w in self.words:\n",
    "                if letter in w:\n",
    "                    p_letter += 1\n",
    "            self.frequency[letter] = (f_letter, len(self.words) / p_letter)\n",
    "            \n",
    "        return self.frequency\n",
    "        \n",
    "    # количество параграфов\n",
    "    def paragraph_amount(self) -> int:\n",
    "        return self.text.count(\"\\n\\n\")\n",
    "    \n",
    "    # слова с включающие буквы из разных алфавитов\n",
    "    def bilingual_word_amount(self) -> int:\n",
    "        for w in self.words:\n",
    "            if re.search(r'[a-zA-Z]', w) and re.search(r'[а-яА-Я]', w):\n",
    "                self.bilingual_words.append(w)   \n",
    "                  \n",
    "        return self.bilingual_words\n",
    "\n"
   ]
  },
  {
   "cell_type": "markdown",
   "metadata": {},
   "source": [
    "### Test"
   ]
  },
  {
   "cell_type": "code",
   "execution_count": 5,
   "metadata": {},
   "outputs": [],
   "source": [
    "def text_statistics(file_path: str) -> tuple:\n",
    "    ts = TextStatistics()\n",
    "    ts.get_text(file_path)\n",
    "    ts.get_words()\n",
    "    ts.get_letters()\n",
    "    \n",
    "    w_amount = ts.words_amount()\n",
    "    l_frequency = ts.letters_frequency()\n",
    "    p_amount = ts.paragraph_amount()\n",
    "    b_words = ts.bilingual_word_amount()\n",
    "    \n",
    "    text_statistics = {}\n",
    "    \n",
    "    for key, value in l_frequency.items():\n",
    "        text_statistics[key] = value\n",
    "    \n",
    "    text_statistics[\"word_amount\"] = w_amount\n",
    "    text_statistics[\"paragraph_amount\"] = p_amount\n",
    "    text_statistics[\"bilingual_word_amount\"] = len(b_words)\n",
    "    \n",
    "    return text_statistics"
   ]
  },
  {
   "cell_type": "markdown",
   "metadata": {},
   "source": [
    "### Output"
   ]
  },
  {
   "cell_type": "code",
   "execution_count": 6,
   "metadata": {},
   "outputs": [
    {
     "data": {
      "text/plain": [
       "{'П': (2, 85.5),\n",
       " 'р': (50, 4.071428571428571),\n",
       " 'о': (125, 1.8387096774193548),\n",
       " 'с': (55, 3.489795918367347),\n",
       " 'т': (72, 2.85),\n",
       " 'ы': (21, 8.55),\n",
       " 'е': (70, 2.9482758620689653),\n",
       " 'ч': (13, 13.153846153846153),\n",
       " 'и': (89, 2.1645569620253164),\n",
       " 'л': (46, 3.8863636363636362),\n",
       " 'а': (74, 3.2264150943396226),\n",
       " 'в': (44, 4.275),\n",
       " 'з': (25, 6.84),\n",
       " 'д': (35, 5.181818181818182),\n",
       " 'н': (65, 3.2264150943396226),\n",
       " 'м': (31, 5.7),\n",
       " 'п': (31, 5.516129032258065),\n",
       " 'Н': (2, 85.5),\n",
       " 'б': (16, 11.4),\n",
       " 'х': (10, 19.0),\n",
       " 'm': (7, 42.75),\n",
       " 'b': (2, 85.5),\n",
       " 'ь': (18, 10.058823529411764),\n",
       " 'ф': (7, 24.428571428571427),\n",
       " 'у': (23, 7.7727272727272725),\n",
       " 'к': (36, 5.34375),\n",
       " 'ц': (15, 11.4),\n",
       " 'ю': (10, 17.1),\n",
       " 'p': (3, 57.0),\n",
       " 'r': (6, 57.0),\n",
       " 'i': (6, 28.5),\n",
       " 'e': (7, 28.5),\n",
       " '_': (5, 57.0),\n",
       " 'n': (11, 24.428571428571427),\n",
       " 'u': (4, 42.75),\n",
       " 's': (4, 42.75),\n",
       " 'l': (4, 42.75),\n",
       " 'o': (6, 34.2),\n",
       " 'w': (2, 85.5),\n",
       " 'h': (4, 85.5),\n",
       " 'g': (2, 85.5),\n",
       " 'г': (6, 28.5),\n",
       " 'ж': (6, 28.5),\n",
       " 'я': (21, 9.5),\n",
       " 'й': (13, 13.153846153846153),\n",
       " 'э': (3, 57.0),\n",
       " 'Ф': (2, 85.5),\n",
       " 'щ': (7, 24.428571428571427),\n",
       " 'a': (4, 85.5),\n",
       " 't': (8, 42.75),\n",
       " 'Р': (1, 171.0),\n",
       " 'ш': (4, 42.75),\n",
       " 'N': (1, 171.0),\n",
       " 'Д': (2, 85.5),\n",
       " 'В': (1, 171.0),\n",
       " 'y': (1, 171.0),\n",
       " 'Г': (1, 171.0),\n",
       " 'Э': (1, 171.0),\n",
       " 'word_amount': 171,\n",
       " 'paragraph_amount': 3,\n",
       " 'bilingual_word_amount': 4}"
      ]
     },
     "execution_count": 6,
     "metadata": {},
     "output_type": "execute_result"
    }
   ],
   "source": [
    "text_statistics(\"../test_data/statistics.txt\")"
   ]
  }
 ],
 "metadata": {
  "kernelspec": {
   "display_name": "venv",
   "language": "python",
   "name": "python3"
  },
  "language_info": {
   "codemirror_mode": {
    "name": "ipython",
    "version": 3
   },
   "file_extension": ".py",
   "mimetype": "text/x-python",
   "name": "python",
   "nbconvert_exporter": "python",
   "pygments_lexer": "ipython3",
   "version": "3.8.0"
  }
 },
 "nbformat": 4,
 "nbformat_minor": 2
}
